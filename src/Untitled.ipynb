{
 "cells": [
  {
   "cell_type": "code",
   "execution_count": 1,
   "metadata": {},
   "outputs": [
    {
     "name": "stderr",
     "output_type": "stream",
     "text": [
      "C:\\ProgramData\\Anaconda3\\lib\\site-packages\\h5py\\__init__.py:34: FutureWarning: Conversion of the second argument of issubdtype from `float` to `np.floating` is deprecated. In future, it will be treated as `np.float64 == np.dtype(float).type`.\n",
      "  from ._conv import register_converters as _register_converters\n",
      "Using TensorFlow backend.\n"
     ]
    }
   ],
   "source": [
    "import DataInitialize\n",
    "import SegementerClassifier\n",
    "import TrainingModel"
   ]
  },
  {
   "cell_type": "code",
   "execution_count": 4,
   "metadata": {
    "collapsed": true
   },
   "outputs": [],
   "source": [
    "DataInitialize.dumpdataset(\"labeled_data\",\"pdf_data\")\n",
    "data=DataInitialize.loaddataset()"
   ]
  },
  {
   "cell_type": "code",
   "execution_count": 6,
   "metadata": {
    "collapsed": true
   },
   "outputs": [],
   "source": [
    "import nltk\n",
    "from sklearn.externals import joblib\n",
    "from sklearn.ensemble import RandomForestRegressor, RandomForestClassifier, GradientBoostingClassifier\n",
    "from sklearn.model_selection import cross_validate,train_test_split\n",
    "from sklearn.metrics import accuracy_score, precision_score, recall_score, f1_score,confusion_matrix\n",
    "import pandas as pd\n",
    "import numpy as np\n",
    "import seaborn as sns\n",
    "import matplotlib.pyplot as plt\n",
    "from sklearn.svm import SVC"
   ]
  },
  {
   "cell_type": "code",
   "execution_count": null,
   "metadata": {},
   "outputs": [
    {
     "name": "stdout",
     "output_type": "stream",
     "text": [
      "kernel is: poly\n",
      "gamma is: 0.1\n",
      "C is: 10\n",
      "Accuracy score: 0.8831076265146115\n",
      "\n"
     ]
    }
   ],
   "source": [
    "X,Y=SegementerClassifier.prepare_data_for_training(data)\n",
    "X_train, X_test, y_train, y_test = train_test_split(X, Y, random_state=0)\n",
    "kernels=['poly']\n",
    "Cs=[10]\n",
    "gammas=[0.1,1,10]\n",
    "for kernel in kernels:\n",
    "    for C in Cs:\n",
    "        for gamma in gammas:\n",
    "            classifier=SVC(kernel=kernel, C=C,gamma=gamma).fit(X_train,y_train)\n",
    "            accuracy_score=classifier.score(X_test, y_test)\n",
    "            print('kernel is: ' + str(kernel))\n",
    "            print('gamma is: ' + str(gamma))\n",
    "            print('C is: ' + str(C))\n",
    "            print('Accuracy score: ' + str(accuracy_score) + '\\n')\n",
    "            y_test_predict = classifier.predict(X_test)\n",
    "            TrainingModel.print_confusion_matrix(y_test,y_test_predict)\n",
    "            TrainingModel.dumpClassifier(classifier,\"SVMClassifier_\"+str(kernel)+\"_\"+str(C)+\"_\"+str(gamma))"
   ]
  },
  {
   "cell_type": "code",
   "execution_count": null,
   "metadata": {},
   "outputs": [],
   "source": []
  },
  {
   "cell_type": "code",
   "execution_count": null,
   "metadata": {
    "collapsed": true
   },
   "outputs": [],
   "source": []
  }
 ],
 "metadata": {
  "kernelspec": {
   "display_name": "Python 3",
   "language": "python",
   "name": "python3"
  },
  "language_info": {
   "codemirror_mode": {
    "name": "ipython",
    "version": 3
   },
   "file_extension": ".py",
   "mimetype": "text/x-python",
   "name": "python",
   "nbconvert_exporter": "python",
   "pygments_lexer": "ipython3",
   "version": "3.6.3"
  }
 },
 "nbformat": 4,
 "nbformat_minor": 2
}
