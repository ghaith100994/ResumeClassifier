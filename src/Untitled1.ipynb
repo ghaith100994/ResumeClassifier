{
 "cells": [
  {
   "cell_type": "code",
   "execution_count": 1,
   "metadata": {},
   "outputs": [
    {
     "name": "stderr",
     "output_type": "stream",
     "text": [
      "C:\\ProgramData\\Anaconda3\\lib\\site-packages\\h5py\\__init__.py:34: FutureWarning: Conversion of the second argument of issubdtype from `float` to `np.floating` is deprecated. In future, it will be treated as `np.float64 == np.dtype(float).type`.\n",
      "  from ._conv import register_converters as _register_converters\n",
      "Using TensorFlow backend.\n"
     ]
    }
   ],
   "source": [
    "from InfoExtractor import InfoExtractor\n",
    "import spacy\n",
    "import SegementerClassifier\n",
    "import utils\n",
    "import ResumeHelper\n",
    "import ResumeSegmenter"
   ]
  },
  {
   "cell_type": "code",
   "execution_count": 2,
   "metadata": {},
   "outputs": [],
   "source": [
    "nlp = spacy.load(\"en_core_web_sm\")"
   ]
  },
  {
   "cell_type": "code",
   "execution_count": 3,
   "metadata": {},
   "outputs": [
    {
     "name": "stderr",
     "output_type": "stream",
     "text": [
      "C:\\ProgramData\\Anaconda3\\lib\\site-packages\\sklearn\\ensemble\\weight_boosting.py:29: DeprecationWarning: numpy.core.umath_tests is an internal NumPy module and should not be imported. It will be removed in a future NumPy release.\n",
      "  from numpy.core.umath_tests import inner1d\n"
     ]
    }
   ],
   "source": [
    "infoExtractor = InfoExtractor('RandomForestClassifier', nlp)"
   ]
  },
  {
   "cell_type": "code",
   "execution_count": 4,
   "metadata": {},
   "outputs": [
    {
     "name": "stdout",
     "output_type": "stream",
     "text": [
      "Name: Chaiwat Ratanaprateepporn\n",
      "Email: \n",
      "Number: \n",
      "City/Country: \n",
      "Gender: Not Found.\n",
      "Links: ['indeed.com/r/Chaiwat-Ratanaprateepporn/7f67792c419c61b8', 'http://www.linkedin.com/in/chaiwat']\n",
      "\n",
      "Skills:\n",
      "['Sql', 'Hadoop', 'Java', 'Solution architecture', 'Scrum', 'C++', 'Nosql', 'Hbase', 'Architecture', 'Engineering', 'Migration', 'Analytical', 'Scripting', 'Cloud', 'Aws', 'Sharepoint', 'Analytics', 'C', 'Javascript', 'Agile', 'Testing', 'Shell', 'Perl', '.net']\n"
     ]
    }
   ],
   "source": [
    "infoExtractor.extractFromFile('pdf_data/Architecture Washington/Chaiwat-Ratanaprateepporn.pdf')"
   ]
  },
  {
   "cell_type": "code",
   "execution_count": null,
   "metadata": {},
   "outputs": [],
   "source": [
    "x=nlp('Chaiwat Ratanaprateepporn')"
   ]
  },
  {
   "cell_type": "code",
   "execution_count": null,
   "metadata": {},
   "outputs": [],
   "source": [
    "for e in x.ents:\n",
    "    print(e.label_)"
   ]
  },
  {
   "cell_type": "code",
   "execution_count": null,
   "metadata": {},
   "outputs": [],
   "source": [
    "def findName(text):\n",
    "    to_chain = False\n",
    "    all_names = []\n",
    "    person_name = None\n",
    "    for sent in text:\n",
    "        for sub_sent in sent[0]:\n",
    "            doc=infoExtractor.SpacyModel(sub_sent)\n",
    "            print(sub_sent)\n",
    "            for ent in doc.ents:\n",
    "                if ent.label_ == \"PERSON\":\n",
    "                    if not to_chain:\n",
    "                        person_name = ent.text.strip()\n",
    "                        to_chain = True\n",
    "                    else:\n",
    "                        person_name = person_name + \" \" + ent.text.strip()\n",
    "                elif ent.label_ != \"PERSON\":\n",
    "                    if to_chain:\n",
    "                        all_names.append(person_name)\n",
    "                        person_name = None\n",
    "                        to_chain = False\n",
    "    if all_names:\n",
    "        return all_names[0]\n",
    "    elseif()\n",
    "        return None"
   ]
  },
  {
   "cell_type": "code",
   "execution_count": null,
   "metadata": {},
   "outputs": [],
   "source": [
    "x=nlp('Redmond WA')\n",
    "for e in x.ents:\n",
    "    print(e.label_)"
   ]
  },
  {
   "cell_type": "code",
   "execution_count": null,
   "metadata": {},
   "outputs": [],
   "source": [
    "nlp."
   ]
  },
  {
   "cell_type": "code",
   "execution_count": null,
   "metadata": {
    "collapsed": true
   },
   "outputs": [],
   "source": []
  }
 ],
 "metadata": {
  "kernelspec": {
   "display_name": "Python 3",
   "language": "python",
   "name": "python3"
  },
  "language_info": {
   "codemirror_mode": {
    "name": "ipython",
    "version": 3
   },
   "file_extension": ".py",
   "mimetype": "text/x-python",
   "name": "python",
   "nbconvert_exporter": "python",
   "pygments_lexer": "ipython3",
   "version": "3.6.3"
  }
 },
 "nbformat": 4,
 "nbformat_minor": 2
}
