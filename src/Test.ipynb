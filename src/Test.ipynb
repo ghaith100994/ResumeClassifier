{
 "cells": [
  {
   "cell_type": "code",
   "execution_count": 2,
   "metadata": {},
   "outputs": [],
   "source": [
    "import DataInitialize"
   ]
  },
  {
   "cell_type": "code",
   "execution_count": 7,
   "metadata": {},
   "outputs": [],
   "source": [
    "data=DataInitialize.createdataset(\"labeled_data\",\"pdf_data\")"
   ]
  },
  {
   "cell_type": "code",
   "execution_count": 8,
   "metadata": {},
   "outputs": [
    {
     "name": "stdout",
     "output_type": "stream",
     "text": [
      "Abagail-Trice\n"
     ]
    }
   ],
   "source": [
    "for key in data:\n",
    "    print(key)\n",
    "    break"
   ]
  },
  {
   "cell_type": "code",
   "execution_count": 9,
   "metadata": {},
   "outputs": [
    {
     "data": {
      "text/plain": [
       "{0: [[['Abagail Trice'], 24, 'Helvetica-Bold'], 'B-Personal_Information'],\n",
       " 1: [[['Lynnwood, WA-Email me on Indeed: indeed.com/r/Abagail-Trice/b51f873d9ab6140d'],\n",
       "   10,\n",
       "   'Helvetica'],\n",
       "  'I-Personal_Information'],\n",
       " 2: [[['Authorized to work in the US for any employer'], 10, 'Helvetica'],\n",
       "  'I-Personal_Information'],\n",
       " 3: [[['WORK EXPERIENCE'], 10, 'Helvetica'], 'B-Experience'],\n",
       " 4: [[['Wedding & Gift Registry Advisor'], 12, 'Helvetica-Bold'],\n",
       "  'I-Experience'],\n",
       " 5: [[[\"Macy's - Culver City, CA-\"], 10, 'Helvetica'], 'I-Experience'],\n",
       " 6: [[['November 2014 to October 2016'], 10, 'Helvetica'], 'I-Experience'],\n",
       " 7: [[['Managed the Wedding & Gift Registry including meeting with one-on-one couples, assisting in buildingregistries, and promote registry events.',\n",
       "    \"Worked with the merchandising manager to build the store's first chinadisplay that lead to an increase in registries value for the store.\",\n",
       "    'Spearheaded campaigns that gave incentivesand encouraged other departments to promote Wedding & Gift registry and helped promote registry events.'],\n",
       "   10,\n",
       "   'Helvetica'],\n",
       "  'B-Projects'],\n",
       " 8: [[['\"The Bridge\" Season 2 (FX) - Office Production Assistant'],\n",
       "   12,\n",
       "   'Helvetica-Bold'],\n",
       "  'B-Experience'],\n",
       " 9: [[['-'], 10, 'Helvetica'], 'I-Experience'],\n",
       " 10: [[['June 2014 to November 2014'], 10, 'Helvetica'], 'I-Experience'],\n",
       " 11: [[['Answered, screened and forwarded calls.Printed and distributed documents to production team.Ran errands as needed.Compiled AFTRA and SAG documents and maintained files.'],\n",
       "   10,\n",
       "   'Helvetica'],\n",
       "  'B-Projects'],\n",
       " 12: [[['Sales Associate and Architecture Rep'], 12, 'Helvetica-Bold'],\n",
       "  'B-Experience'],\n",
       " 13: [[['Emporio Tile & Stone - Santa Monica, CA-'], 10, 'Helvetica'],\n",
       "  'I-Experience'],\n",
       " 14: [[['February 2012 to April 2014'], 10, 'Helvetica'], 'I-Experience'],\n",
       " 15: [[['Assisted clients with identifying products that met their practical and aesthetic needs.',\n",
       "    'Organized and updatedthe showroom displays and sample area.',\n",
       "    'Handled incoming calls and followed up with clients.',\n",
       "    'Maintained andupdated client files.Generated and processed customer invoices using QuickBooks.• Developed and maintained excellent relationships with clients, vendors, and coworkers.• Trained new showroom staff and receptionists in daily tasks, forms, and business practices.'],\n",
       "   10,\n",
       "   'Helvetica'],\n",
       "  'B-Projects'],\n",
       " 16: [[['Office Coordinator'], 12, 'Helvetica-Bold'], 'B-Experience'],\n",
       " 17: [[['Market Street Productions - Venice, CA-'], 10, 'Helvetica'],\n",
       "  'I-Experience'],\n",
       " 18: [[['May 2010 to February 2012'], 10, 'Helvetica'], 'I-Experience'],\n",
       " 19: [[['Handled incoming phone calls and greeted visitors.',\n",
       "    \"Scheduled the producers' meetings and confirmed meetingtimes with follow-up calls.\",\n",
       "    'Created and maintained files for clients, vendors, and projects.• Ensured the appropriate forms (e.g., Screen Actors Guild) and documents (e.g., Vendor, Cast,'],\n",
       "   10,\n",
       "   'Helvetica'],\n",
       "  'B-Projects'],\n",
       " 20: [[['Crew, and shot lists) were completed accurately for productions.'],\n",
       "   10,\n",
       "   'Helvetica'],\n",
       "  'I-Projects'],\n",
       " 21: [[['Design and Sales Associate'], 12, 'Helvetica-Bold'], 'B-Experience'],\n",
       " 22: [[['Global Granite & Marble - St. Louis, MO-'], 10, 'Helvetica'],\n",
       "  'I-Experience'],\n",
       " 23: [[['2004 to 2008'], 10, 'Helvetica'], 'I-Experience'],\n",
       " 24: [[['Worked with clients to select products that met their needs and exceeded their expectations.Scheduled appointments with homeowners and contractors.',\n",
       "    'Prepared and updated files on ongoingprojects in a timely manner.',\n",
       "    'Trained the new showroom staff and receptionists.• Followed up with clients to ensure that their needs were met and exceeded.• Created and maintained the check-out and return system for new merchandise samples.'],\n",
       "   10,\n",
       "   'Helvetica'],\n",
       "  'B-Projects'],\n",
       " 25: [[['EDUCATION'], 10, 'Helvetica'], 'B-Education'],\n",
       " 26: [[['B.F.A.', 'in Interior Design'], 12, 'Helvetica-Bold'], 'I-Education'],\n",
       " 27: [[['Maryville University - St. Louis, MO'], 10, 'Helvetica'],\n",
       "  'I-Education'],\n",
       " 28: [[['May 2005'], 10, 'Helvetica'], 'I-Education'],\n",
       " 29: [[['ADDITIONAL INFORMATION'], 10, 'Helvetica'], 'B-Others'],\n",
       " 30: [[['References:'], 10, 'Helvetica'], 'I-Others'],\n",
       " 31: [[[\"LaNette FisherFellow Macy's Wedding & Gift Registry Advisor[…]lanettefisher@mac.com\"],\n",
       "   10,\n",
       "   'Helvetica'],\n",
       "  'I-Others'],\n",
       " 32: [[['Mike ClarkAssistant Production Coordinator for \"The Bridge\" Season 2[…][…]'],\n",
       "   10,\n",
       "   'Helvetica'],\n",
       "  'I-Others'],\n",
       " 33: [[['Raquel Alforque CabreraReceptionist at Emporio Tile and Stone[…]Raquel@daraincusa.com'],\n",
       "   10,\n",
       "   'Helvetica'],\n",
       "  'I-Others'],\n",
       " 34: [[['Ryan KnightCoworker / Editor Market Street Productions[…]'],\n",
       "   10,\n",
       "   'Helvetica'],\n",
       "  'I-Others'],\n",
       " 35: [[['Daniel Elkaya.Coworker/ EditorMarket Street Productions[…] danielkayam@gmail.com'],\n",
       "   10,\n",
       "   'Helvetica'],\n",
       "  'I-Others']}"
      ]
     },
     "execution_count": 9,
     "metadata": {},
     "output_type": "execute_result"
    }
   ],
   "source": []
  },
  {
   "cell_type": "code",
   "execution_count": null,
   "metadata": {
    "collapsed": true
   },
   "outputs": [],
   "source": []
  }
 ],
 "metadata": {
  "kernelspec": {
   "display_name": "Python 3",
   "language": "python",
   "name": "python3"
  },
  "language_info": {
   "codemirror_mode": {
    "name": "ipython",
    "version": 3
   },
   "file_extension": ".py",
   "mimetype": "text/x-python",
   "name": "python",
   "nbconvert_exporter": "python",
   "pygments_lexer": "ipython3",
   "version": "3.6.3"
  }
 },
 "nbformat": 4,
 "nbformat_minor": 2
}
