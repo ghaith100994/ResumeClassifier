{
 "cells": [
  {
   "cell_type": "code",
   "execution_count": null,
   "metadata": {},
   "outputs": [],
   "source": [
    "import DataInitialize\n",
    "import SegementerClassifier"
   ]
  },
  {
   "cell_type": "code",
   "execution_count": 2,
   "metadata": {},
   "outputs": [],
   "source": [
    "data=DataInitialize.createdataset(\"labeled_data\",\"pdf_data\")"
   ]
  },
  {
   "cell_type": "code",
   "execution_count": 3,
   "metadata": {},
   "outputs": [
    {
     "ename": "TypeError",
     "evalue": "list indices must be integers or slices, not str",
     "output_type": "error",
     "traceback": [
      "\u001b[1;31m---------------------------------------------------------------------------\u001b[0m",
      "\u001b[1;31mTypeError\u001b[0m                                 Traceback (most recent call last)",
      "\u001b[1;32m<ipython-input-3-52369b5397b9>\u001b[0m in \u001b[0;36m<module>\u001b[1;34m()\u001b[0m\n\u001b[1;32m----> 1\u001b[1;33m \u001b[0mx_data\u001b[0m\u001b[1;33m,\u001b[0m\u001b[0my_data\u001b[0m\u001b[1;33m=\u001b[0m\u001b[0mSegementerClassifier\u001b[0m\u001b[1;33m.\u001b[0m\u001b[0msplitdata\u001b[0m\u001b[1;33m(\u001b[0m\u001b[0mdata\u001b[0m\u001b[1;33m)\u001b[0m\u001b[1;33m\u001b[0m\u001b[0m\n\u001b[0m",
      "\u001b[1;32m~\\Documents\\GitHub\\ResumeClassifier\\src\\SegementerClassifier.py\u001b[0m in \u001b[0;36msplitdata\u001b[1;34m(data)\u001b[0m\n\u001b[0;32m     87\u001b[0m     \u001b[1;32mfor\u001b[0m \u001b[0mresume\u001b[0m \u001b[1;32min\u001b[0m \u001b[0mdata\u001b[0m\u001b[1;33m:\u001b[0m\u001b[1;33m\u001b[0m\u001b[0m\n\u001b[0;32m     88\u001b[0m         \u001b[1;32mfor\u001b[0m \u001b[0mpharagraph_num\u001b[0m \u001b[1;32min\u001b[0m \u001b[0mdata\u001b[0m\u001b[1;33m[\u001b[0m\u001b[0mresume\u001b[0m\u001b[1;33m]\u001b[0m\u001b[1;33m:\u001b[0m\u001b[1;33m\u001b[0m\u001b[0m\n\u001b[1;32m---> 89\u001b[1;33m             \u001b[0mx_data\u001b[0m\u001b[1;33m.\u001b[0m\u001b[0mappend\u001b[0m\u001b[1;33m(\u001b[0m\u001b[0msent_features\u001b[0m\u001b[1;33m(\u001b[0m\u001b[0mx_data\u001b[0m\u001b[1;33m[\u001b[0m\u001b[0mresume\u001b[0m\u001b[1;33m]\u001b[0m\u001b[1;33m[\u001b[0m\u001b[0mpharagraph_num\u001b[0m\u001b[1;33m]\u001b[0m\u001b[1;33m[\u001b[0m\u001b[1;36m0\u001b[0m\u001b[1;33m:\u001b[0m\u001b[1;33m-\u001b[0m\u001b[1;36m1\u001b[0m\u001b[1;33m]\u001b[0m\u001b[1;33m,\u001b[0m\u001b[0mpharagraph_num\u001b[0m\u001b[1;33m,\u001b[0m\u001b[0mx_data\u001b[0m\u001b[1;33m,\u001b[0m\u001b[0my_data\u001b[0m\u001b[1;33m)\u001b[0m\u001b[1;33m)\u001b[0m\u001b[1;33m\u001b[0m\u001b[0m\n\u001b[0m\u001b[0;32m     90\u001b[0m             \u001b[0my_data\u001b[0m\u001b[1;33m.\u001b[0m\u001b[0mappend\u001b[0m\u001b[1;33m(\u001b[0m\u001b[0mdata\u001b[0m\u001b[1;33m[\u001b[0m\u001b[0mresume\u001b[0m\u001b[1;33m]\u001b[0m\u001b[1;33m[\u001b[0m\u001b[0mpharagraph_num\u001b[0m\u001b[1;33m]\u001b[0m\u001b[1;33m[\u001b[0m\u001b[1;33m-\u001b[0m\u001b[1;36m1\u001b[0m\u001b[1;33m]\u001b[0m\u001b[1;33m)\u001b[0m\u001b[1;33m\u001b[0m\u001b[0m\n\u001b[0;32m     91\u001b[0m     \u001b[1;32mreturn\u001b[0m \u001b[0mx_data\u001b[0m\u001b[1;33m,\u001b[0m\u001b[0my_data\u001b[0m\u001b[1;33m\u001b[0m\u001b[0m\n",
      "\u001b[1;31mTypeError\u001b[0m: list indices must be integers or slices, not str"
     ]
    }
   ],
   "source": [
    "x_data,y_data=SegementerClassifier.splitdata(data)"
   ]
  },
  {
   "cell_type": "code",
   "execution_count": 9,
   "metadata": {},
   "outputs": [],
   "source": [
    "x_data=[]\n",
    "y_data=[]\n",
    "for resume in data:\n",
    "    for pharagraph_num in data[resume]:\n",
    "        x_data.append(SegementerClassifier.sent_features(data[resume][pharagraph_num][0:-1],pharagraph_num,x_data,y_data))\n",
    "        y_data.append(data[resume][pharagraph_num][-1])"
   ]
  },
  {
   "cell_type": "code",
   "execution_count": 11,
   "metadata": {},
   "outputs": [],
   "source": [
    "y=SegementerClassifier.num_data_y(y_data)"
   ]
  },
  {
   "cell_type": "code",
   "execution_count": 16,
   "metadata": {},
   "outputs": [],
   "source": [
    "SegementerClassifier.segmnetation_values=SegementerClassifier.np.unique(y_data)"
   ]
  },
  {
   "cell_type": "code",
   "execution_count": 34,
   "metadata": {},
   "outputs": [
    {
     "data": {
      "text/plain": [
       "array(['B-Education', 'B-Experience', 'B-Others',\n",
       "       'B-Personal_Information', 'B-Projects', 'B-Skills', 'I-Education',\n",
       "       'I-Experience', 'I-Others', 'I-Personal_Information', 'I-Projects',\n",
       "       'I-Skills', 'O'], dtype='<U22')"
      ]
     },
     "execution_count": 34,
     "metadata": {},
     "output_type": "execute_result"
    }
   ],
   "source": [
    "SegementerClassifier.segmnetation_values"
   ]
  },
  {
   "cell_type": "code",
   "execution_count": 30,
   "metadata": {},
   "outputs": [],
   "source": [
    "def num_data_x(x_data):\n",
    "    copyof_x_data=[]\n",
    "    for feat in x_data:\n",
    "        Normalized_Feat=[]\n",
    "        if (feat['Contain_Date']==False and feat['Contain_Phone']==False and feat['Contain_URL']==False\n",
    "            and feat['Contain_email']==False):\n",
    "            Normalized_Feat.append(0)\n",
    "        else:\n",
    "            Normalized_Feat.append(1)\n",
    "        if(feat['IsEducationSegment']==False):\n",
    "            Normalized_Feat.append(0)\n",
    "        else:\n",
    "            Normalized_Feat.append(1)\n",
    "        if(feat['IsProjectSegment']==False):\n",
    "            Normalized_Feat.append(0)\n",
    "        else:\n",
    "            Normalized_Feat.append(1)\n",
    "        if(feat['IsSkillSegment']==False):\n",
    "            Normalized_Feat.append(0)\n",
    "        else:\n",
    "            Normalized_Feat.append(1)\n",
    "        if(feat['IsWorkSegment']==False):\n",
    "            Normalized_Feat.append(0)\n",
    "        else:\n",
    "            Normalized_Feat.append(1)\n",
    "        if(feat['Font_Family'].__contains__(\"Bold\")):\n",
    "            Normalized_Feat.append(1)\n",
    "        else:\n",
    "            Normalized_Feat.append(0)\n",
    "        if(feat['pre_Font_Family'].__contains__(\"Bold\")):\n",
    "            Normalized_Feat.append(1)\n",
    "        else:\n",
    "            Normalized_Feat.append(0)\n",
    "        Normalized_Feat.append(feat['Font_Size'])\n",
    "        Normalized_Feat.append(feat['pre_Font_Size'])\n",
    "        Normalized_Feat.append(feat['Word_Count'])\n",
    "        Normalized_Feat.append(feat['PhargraphNumber'])\n",
    "        if(feat['prevtag']=='<START>'):\n",
    "            Normalized_Feat.append(-1)\n",
    "        else:\n",
    "            class_is=feat['prevtag']\n",
    "            itemindex = SegementerClassifier.np.where(SegementerClassifier.segmnetation_values==class_is)\n",
    "            Normalized_Feat.append(itemindex[0][0])\n",
    "        copyof_x_data.append(Normalized_Feat.copy())\n",
    "    return  copyof_x_data\n"
   ]
  },
  {
   "cell_type": "code",
   "execution_count": 33,
   "metadata": {},
   "outputs": [
    {
     "data": {
      "text/plain": [
       "[1, 0, 0, 0, 0, 0, 1, 10, 24, 6, 1, 3]"
      ]
     },
     "execution_count": 33,
     "metadata": {},
     "output_type": "execute_result"
    }
   ],
   "source": [
    "\n",
    "x[1]"
   ]
  },
  {
   "cell_type": "code",
   "execution_count": null,
   "metadata": {
    "collapsed": true
   },
   "outputs": [],
   "source": []
  }
 ],
 "metadata": {
  "kernelspec": {
   "display_name": "Python 3",
   "language": "python",
   "name": "python3"
  },
  "language_info": {
   "codemirror_mode": {
    "name": "ipython",
    "version": 3
   },
   "file_extension": ".py",
   "mimetype": "text/x-python",
   "name": "python",
   "nbconvert_exporter": "python",
   "pygments_lexer": "ipython3",
   "version": "3.6.3"
  }
 },
 "nbformat": 4,
 "nbformat_minor": 2
}
